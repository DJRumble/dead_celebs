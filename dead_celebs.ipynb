{
 "cells": [
  {
   "cell_type": "code",
   "execution_count": 448,
   "metadata": {
    "collapsed": false
   },
   "outputs": [
    {
     "name": "stdout",
     "output_type": "stream",
     "text": [
      "The autoreload extension is already loaded. To reload it, use:\n",
      "  %reload_ext autoreload\n"
     ]
    }
   ],
   "source": [
    "%load_ext autoreload\n",
    "%autoreload 2\n",
    "%matplotlib inline\n",
    "\n",
    "import matplotlib.pylab as plt\n",
    "\n",
    "import requests\n",
    "from lxml import html\n",
    "\n",
    "from BeautifulSoup import BeautifulSoup as BS\n",
    "import urllib2\n",
    "import re\n",
    "\n",
    "import pandas as pd\n",
    "import numpy as np\n",
    "import string\n"
   ]
  },
  {
   "cell_type": "code",
   "execution_count": 798,
   "metadata": {
    "collapsed": true
   },
   "outputs": [],
   "source": [
    "def years_2005_13(year,month,day,name,age):\n",
    "    '''\n",
    "    apply only to years 2005 to 2013 due to website format\n",
    "\n",
    "    '''\n",
    "    year_list = ['2001','2002','2003','2004','2005',\n",
    "                 '2006','2007','2008','2009','2010','2011','2012']\n",
    "    #year_list = ['2009']\n",
    "    \n",
    "    month_dict = {'JANUARY':1,'FEBRUARY':2,'MARCH':3,\n",
    "               'APRIL':4,'MAY':5,'JUNE':6,\n",
    "               'JULY':7,'AUGUST':8,'SEPTEMBER':9,\n",
    "               'OCTOBER':10,'NOVEMBER':11,'DECEMBER':12,\n",
    "             'January':1,'February':2,'March':3,\n",
    "               'April':4,'May':5,'June':6,\n",
    "               'July':7,'August':8,'September':9,\n",
    "               'October':10,'November':11,'December':12}\n",
    "    \n",
    "    for i in year_list:\n",
    "        #access webpage and save HTML into python\n",
    "        page = requests.get(\"http://fiftiesweb.com/dead/dead-people-{}/\".format(i)).text\n",
    "        soup = BS(page)\n",
    "    \n",
    "        #Loop celbs and save to dates to lists\n",
    "        elem_p = soup.findAll('p')[1:]\n",
    "        elem = soup.findAll('b')[1:]\n",
    "    \n",
    "        for j in range(len(elem)):\n",
    "            try:\n",
    "                year_j = i\n",
    "                celeb_j = elem[j].text[:-1]\n",
    "                date_elem = str(elem_p[j].text[0:20])\n",
    "                month_j = month_dict[string.split(date_elem,' ')[0]]\n",
    "                day_j = string.split(date_elem,' ')[1]\n",
    "                try:\n",
    "                    day_j = string.split(day_j,'-')[0]\n",
    "                except:\n",
    "                    pass       \n",
    "                \n",
    "                try:\n",
    "                    age_j = string.split(str(elem_p[j].text[-4:]),' ')[1]\n",
    "                except:\n",
    "                    age_j = 'nan'\n",
    "                \n",
    "                #print year_j, month_j, day_j, celeb_j, age_j\n",
    "                year.append(year_j)\n",
    "                month.append(month_j)\n",
    "                day.append(day_j)\n",
    "                name.append(celeb_j)\n",
    "                age.append(age_j)\n",
    "            except:\n",
    "                pass\n",
    "    return year,month,day,name,age"
   ]
  },
  {
   "cell_type": "code",
   "execution_count": 799,
   "metadata": {
    "collapsed": false
   },
   "outputs": [],
   "source": [
    "def years_2013_16(year,month,day,name,age):\n",
    "    '''\n",
    "    apply only to years 2013 to 2016 due to website format\n",
    "\n",
    "    '''\n",
    "    year_list = ['2013','2014','2015','2016']\n",
    "    #year_list = ['2015']\n",
    "    \n",
    "    month_dict = {'JANUARY':1,'FEBRUARY':2,'MARCH':3,\n",
    "               'APRIL':4,'MAY':5,'JUNE':6,\n",
    "               'JULY':7,'AUGUST':8,'SEPTEMBER':9,\n",
    "               'OCTOBER':10,'NOVEMBER':11,'DECEMBER':12,\n",
    "               'January':1,'February':2,'March':3,\n",
    "               'April':4,'May':5,'June':6,\n",
    "               'July':7,'August':8,'September':9,\n",
    "               'October':10,'November':11,'December':12,\n",
    "                'October-':10,'November-':11,'December-':12,\n",
    "                'Celebrity Deaths 2016JANUARY':1}\n",
    "    \n",
    "    for i in year_list:\n",
    "        #access webpage and save HTML into python\n",
    "        page = requests.get(\"http://fiftiesweb.com/dead/dead-people-{}/\".format(i)).text\n",
    "        soup = BS(page)\n",
    "    \n",
    "        #Loop celbs and save to dates to lists\n",
    "        elem_p = soup.findAll('p')[1:]\n",
    "        elem = soup.findAll('b')\n",
    "        #print elem_p\n",
    "        \n",
    "    \n",
    "        for j in range(len(elem_p)):\n",
    "            year_j = i\n",
    "            try:\n",
    "                k = str(elem_p[j].text[0:30])\n",
    "                month_b = k in month_dict.keys()\n",
    "                if (month_b == True):\n",
    "                    month_j = month_dict[k]\n",
    "                else:\n",
    "                    if (elem_p[j].text[0] == '0'):\n",
    "                        day_j = elem_p[j].text[1]\n",
    "                    else:\n",
    "                        day_j = elem_p[j].text[0:2]\n",
    "\n",
    "                name_elem_b = str(string.split(k,',')[0])\n",
    "                celeb_j = string.split(name_elem_b,';')[1]\n",
    "\n",
    "                try:\n",
    "                    age_j = string.split(str(elem_p[j].text[-4:]),' ')[1]\n",
    "                except:\n",
    "                    age_j = 'nan'\n",
    "\n",
    "                \n",
    "                #print year_j, month_j, day_j, celeb_j\n",
    "                year.append(year_j)\n",
    "                month.append(month_j)\n",
    "                day.append(day_j)\n",
    "                name.append(celeb_j)\n",
    "                age.append(age_j)\n",
    "            except:\n",
    "                pass\n",
    "\n",
    "    return year,month,day,name,age\n",
    "\n"
   ]
  },
  {
   "cell_type": "code",
   "execution_count": 800,
   "metadata": {
    "collapsed": false,
    "scrolled": false
   },
   "outputs": [],
   "source": [
    "#lists\n",
    "year = []\n",
    "month = []\n",
    "day = []\n",
    "name = []\n",
    "age = []\n",
    "\n",
    "      \n",
    "year,month,day,name,age = years_2005_13(year,month,day,name,age)\n",
    "year,month,day,name,age = years_2013_16(year,month,day,name,age)"
   ]
  },
  {
   "cell_type": "code",
   "execution_count": null,
   "metadata": {
    "collapsed": false
   },
   "outputs": [],
   "source": []
  },
  {
   "cell_type": "code",
   "execution_count": 801,
   "metadata": {
    "collapsed": false
   },
   "outputs": [],
   "source": [
    "#soup"
   ]
  },
  {
   "cell_type": "code",
   "execution_count": 802,
   "metadata": {
    "collapsed": false
   },
   "outputs": [
    {
     "name": "stdout",
     "output_type": "stream",
     "text": [
      "964\n",
      "960\n"
     ]
    },
    {
     "data": {
      "text/html": [
       "<div>\n",
       "<table border=\"1\" class=\"dataframe\">\n",
       "  <thead>\n",
       "    <tr style=\"text-align: right;\">\n",
       "      <th></th>\n",
       "      <th>age</th>\n",
       "      <th>day</th>\n",
       "      <th>month</th>\n",
       "      <th>name</th>\n",
       "      <th>year</th>\n",
       "    </tr>\n",
       "  </thead>\n",
       "  <tbody>\n",
       "    <tr>\n",
       "      <th>0</th>\n",
       "      <td>89</td>\n",
       "      <td>15</td>\n",
       "      <td>1</td>\n",
       "      <td>Ruth Warrick</td>\n",
       "      <td>2005</td>\n",
       "    </tr>\n",
       "    <tr>\n",
       "      <th>1</th>\n",
       "      <td>84</td>\n",
       "      <td>17</td>\n",
       "      <td>1</td>\n",
       "      <td>Virginia Mayo</td>\n",
       "      <td>2005</td>\n",
       "    </tr>\n",
       "    <tr>\n",
       "      <th>2</th>\n",
       "      <td>86</td>\n",
       "      <td>22</td>\n",
       "      <td>1</td>\n",
       "      <td>Rose Mary Woods</td>\n",
       "      <td>2005</td>\n",
       "    </tr>\n",
       "    <tr>\n",
       "      <th>3</th>\n",
       "      <td>79</td>\n",
       "      <td>23</td>\n",
       "      <td>1</td>\n",
       "      <td>Johnny Carson</td>\n",
       "      <td>2005</td>\n",
       "    </tr>\n",
       "    <tr>\n",
       "      <th>4</th>\n",
       "      <td>69</td>\n",
       "      <td>25</td>\n",
       "      <td>1</td>\n",
       "      <td>Ray Peterson</td>\n",
       "      <td>2005</td>\n",
       "    </tr>\n",
       "  </tbody>\n",
       "</table>\n",
       "</div>"
      ],
      "text/plain": [
       "  age day  month             name  year\n",
       "0  89  15      1     Ruth Warrick  2005\n",
       "1  84  17      1    Virginia Mayo  2005\n",
       "2  86  22      1  Rose Mary Woods  2005\n",
       "3  79  23      1    Johnny Carson  2005\n",
       "4  69  25      1     Ray Peterson  2005"
      ]
     },
     "execution_count": 802,
     "metadata": {},
     "output_type": "execute_result"
    }
   ],
   "source": [
    "def func(x):\n",
    "    try:\n",
    "        x = int(x)\n",
    "    except:\n",
    "        x = 'nan'\n",
    "    return x\n",
    "\n",
    "year = map(lambda x: func(x),year)\n",
    "month = map(lambda x: func(x),month)\n",
    "day = map(lambda x: func(x),day)\n",
    "age = map(lambda x: func(x),age)\n",
    "\n",
    "dict = {'year':year,\n",
    "        'month':month,\n",
    "        'day':day,\n",
    "        'name':name,\n",
    "        'age':age}\n",
    "\n",
    "df = pd.DataFrame(data=dict)\n",
    "print len(df)\n",
    "df  = df.drop(df.day[df.day == 'nan'].index)\n",
    "#df.to_csv('data/dead_celebs_2013_16.csv')\n",
    "print len(df)\n",
    "df.head()"
   ]
  },
  {
   "cell_type": "code",
   "execution_count": 803,
   "metadata": {
    "collapsed": false
   },
   "outputs": [],
   "source": [
    "counts = []\n",
    "dates = []\n",
    "\n",
    "years = df.year.unique()\n",
    "months = df.month.unique()\n",
    "\n",
    "c = 0 \n",
    "\n",
    "for i in years:\n",
    "    dg = df.groupby('year').get_group(i)\n",
    "    for j in months:\n",
    "        try:\n",
    "            dh = dg.groupby('month').get_group(j)\n",
    "            l = len(dh)\n",
    "        except:\n",
    "            l = 0\n",
    "        #print \"{}-{}\".format(i,j)\n",
    "        counts.append(l)\n",
    "        if (c%10 == 0):\n",
    "            dates.append(\"{}-{}\".format(i,j))\n",
    "        else:\n",
    "            dates.append(\" \")\n",
    "        c = c+1\n",
    "        #counts[\"{}-{}\".format(i,j)] = len(dh)"
   ]
  },
  {
   "cell_type": "code",
   "execution_count": 804,
   "metadata": {
    "collapsed": false
   },
   "outputs": [
    {
     "data": {
      "image/png": "[encoded data removed]",
      "text/plain": [
       "<matplotlib.figure.Figure at 0x1ae3b748>"
      ]
     },
     "metadata": {},
     "output_type": "display_data"
    }
   ],
   "source": [
    "plt.figure()\n",
    "\n",
    "N = len(counts)\n",
    "ind = np.arange(N)\n",
    "w = 0.35\n",
    "\n",
    "y = counts\n",
    "x = dates\n",
    "\n",
    "plt.bar(ind,y)\n",
    "\n",
    "plt.title('Celebrities that have died (2005-2016)')\n",
    "plt.ylabel('Monthly counts')\n",
    "plt.xlabel('Time (yyyy-mm)')\n",
    "plt.xticks()\n",
    "plt.xticks(ind+w,x,rotation=60)\n",
    "\n",
    "plt.show()"
   ]
  },
  {
   "cell_type": "code",
   "execution_count": 807,
   "metadata": {
    "collapsed": false,
    "scrolled": true
   },
   "outputs": [
    {
     "name": "stdout",
     "output_type": "stream",
     "text": [
      "80.0 15.1224188213\n"
     ]
    },
    {
     "data": {
      "text/plain": [
       "<matplotlib.text.Text at 0x1afed550>"
      ]
     },
     "execution_count": 807,
     "metadata": {},
     "output_type": "execute_result"
    },
    {
     "data": {
      "image/png": "[encoded data removed]",
      "text/plain": [
       "<matplotlib.figure.Figure at 0x1c0e7e80>"
      ]
     },
     "metadata": {},
     "output_type": "display_data"
    }
   ],
   "source": [
    "#plt.figure()\n",
    "df_crop_age  = df.drop(df.age[df.age == 'nan'].index)\n",
    "df_crop_age.age.hist(bins=30)\n",
    "print df_crop_age.age.median(),df_crop_age.age.std()\n",
    "plt.title('Distribution of celebrity death age (2005-2016)')\n",
    "plt.ylabel('Frequency')\n",
    "plt.xlabel('Age')"
   ]
  },
  {
   "cell_type": "code",
   "execution_count": null,
   "metadata": {
    "collapsed": false
   },
   "outputs": [],
   "source": []
  },
  {
   "cell_type": "code",
   "execution_count": 368,
   "metadata": {
    "collapsed": false
   },
   "outputs": [
    {
     "name": "stdout",
     "output_type": "stream",
     "text": [
      "<p><b><u>Gone But Not Forgotten &#8211; 2012</u></b></p>\n",
      "<p>January 17 &#8211; <b>Johnny Otis,</b> Singer/Songwriter &#8211; &#8220;Willie and the Jive Hand&#8221; also wrote &#8220;Every Beat of My Heart&#8221; &#8211; age 90</p>\n",
      "<p>January 20 &#8211; <b>Etta James,</b> Singer &#8211; Jazz/Blues singer &#8220;Dance With Me&#8221;, &#8220;At Last&#8221; won 6 Grammy Awards &#8211; age 73</p>\n",
      "<p>January 22 &#8211; <b>Joe Paterno,</b> College football coach &#8211; Penn State head coach for 46 years &#8211; age 85</p>\n",
      "<p>January 24 &#8211; <b>James Farentino,</b> Actor &#8211; &#8220;The Bold Ones&#8221; (1967-72) &#8220;The Final Countdown&#8221; (1980) &#8211; age 73</p>\n",
      "<p>January 26 &#8211; <b>Ian Abercrombie,</b> Actor &#8211; Mr. Pitt on &#8220;Seinfield&#8221; also Alfred Pennyworth in &#8220;Birds of Prey&#8221; &#8211; age 77</p>\n",
      "<p>January 26 &#8211; <b>Robert Hegyes,</b> Actor &#8211; Epstein on &#8220;Welcome Back Kotter&#8221; (1975-79) &#8211; age 60</p>\n",
      "<p>February 01 &#8211; <b>Don Cornelius,</b> TV Host &amp; Producer &#8211; creator of &#8220;Soul Train&#8221; tv dance show &#8211; age 75</p>\n",
      "<p>February 03 &#8211; <b>Ben Gazzara,</b> Actor &#8211; &#8220;Run for Your Life&#8221; (1965-68), villain in &#8220;Road House&#8221; &#8211; age 81</p>\n",
      "<p>February 06 &#8211; <b>Peter Breck,</b> Actor &#8211; Nick Barkley in &#8220;<a href=\"http://fiftiesweb.com/tv/big-valley.htm\" target=\"_blank\">Big Valley</a>&#8221; (1965-69) &#8211; age 82</p>\n",
      "<p>February 08 &#8211; <b>John Fairfax,</b> Adventurer &#8211; first person to row across an ocean solo (Atlantic Ocean in 1969)- age 74</p>\n",
      "<p>February 11 &#8211; <b>Whitney Houston,</b> Singer/Actress &#8211; &#8220;I Will Always Love You&#8221;, &#8220;How Will I Know&#8221;, &#8220;Greatest Love of All&#8221; &#8211; age 48</p>\n",
      "<p>February 24 &#8211; <b>Jan Berenstain,</b> Writer &#8211; Co-created with her husband &#8220;The Berenstain Bears&#8221; series of children&#8217;s books &#8211; age 88</p>\n",
      "<p>February 29 &#8211; <b>Davy Jones,</b> Singer/Actor &#8211; Lead singer in &#8220;The Monkees&#8221; also &#8220;<a href=\"http://fiftiesweb.com/tv/monkees.htm\">Monkees</a>&#8221; tv show &#8211; age 66</p>\n",
      "<p>March 03 &#8211;    <b>Steve Bridges,</b> Comedian &#8211; did a George W Bush impression &#8211; age 48</p>\n",
      "<p>March 08 &#8211;    <b>Jimmy Ellis,</b> Singer/Song Writer &#8211; sang with The Trammps, &#8220;Disco Inferno&#8221; &#8211; age 74</p>\n",
      "<p>March 28 &#8211;    <b>Earl Scruggs,</b> Musician/Banjo player &#8211; performed theme song to &#8220;<a href=\"http://fiftiesweb.com/tv/beverly-hillbillies.htm\" target=\"_blank\">The Beverly Hillbillies</a>&#8221; called &#8220;The Ballad of Jed Clampett&#8221; &#8211; age 88</p>\n",
      "<p>April 07 &#8211;     <b>Mike Wallace,</b> Journalist &#8211; original correspondent on &#8220;60 Minutes&#8221; for 40 years (1968 &#8211; 2008) age &#8211; 93</p>\n",
      "<p>April 14 &#8211;     <b>Jonathan Frid,</b> Actor &#8211; Barnabas Collins on TV show &#8220;<a href=\"http://fiftiesweb.com/tv/dark-shadows.htm\">Dark Shadows</a>&#8221; (1969 &#8211; &#8217;71) age &#8211; 87</p>\n",
      "<p>April 18 &#8211;     <b>Dick Clark,</b> radio and television personality &#8211; <a href=\"http://fiftiesweb.com/bandstnd.htm\" target=\"_blank\">American Bandstand</a> 1957 -&#8217;87, New Year&#8217;s Rockin&#8217; Eve (1972 &#8211; 2011) &#8211; age 82</p>\n",
      "<p>May 06 &#8211;      <b>George Lindsey,</b> Actor &#8211; Goober on &#8220;<a href=\"http://fiftiesweb.com/tv/andy-griffith.htm\">Andy Griffith Show</a>&#8221; and &#8220;Hee Haw&#8221; age &#8211; 83</p>\n",
      "<p>May 10 &#8211;      <b>Caroll Shelby,</b> Automotive Designer &#8211; Shelby Cobra &amp; Shelby Mustang &#8211; age 89</p>\n",
      "<p>May 17 &#8211;      <b>Donna Summer,</b> Singer/Songwriter &#8211; &#8220;Last Dance&#8221;, &#8220;Bad Girls&#8221;, &#8220;Hot Stuff&#8221; &#8211; age 63</p>\n",
      "<p>May 20 &#8211;      <b>Robin Gibb,</b> Singer/Songwriter &#8211; with his three brothers formed The Bee Gees &#8211; age 62</p>\n",
      "<p>May 24 &#8211;      <b>Janet Carroll,</b> Actress &#8211; played Tom Cruise&#8217;s mother in &#8220;Risky Business&#8221; &#8211; age 71</p>\n",
      "<p>June 02 &#8211;     <b>Richard Dawson,</b> Actor &#8211; &#8220;Family Feud&#8221; Host (1976-&#8217;85) &amp; &#8220;<a href=\"http://fiftiesweb.com/tv/hogans-heroes.htm\" target=\"_blank\">Hogans Heroes</a>&#8221; (1965-&#8217;71) &#8211; age 79</p>\n",
      "<p>June 02 &#8211;     <b>Kathryn Joostin,</b> Actress &#8211; Karen McCluskey in &#8220;Desperate Housewives&#8221; won 2 Emmy&#8217;s &#8211; age 72</p>\n",
      "<p>June 04 &#8211;     <b>Herb Reed,</b> Muscian/ Singer &#8211; founding member of The Platters (1953) &#8211; age 83</p>\n",
      "<p>June 05 &#8211;     <b>Ray Bradbury,</b> Writer &#8211; science fiction &#8211; &#8220;Martian Chronicles&#8221;, &#8220;Fahrenhart 451&#8221; &#8211; age 91</p>\n",
      "<p>June 07 &#8211;     <b>Bob Welch,</b> Singer/ Songwriter &#8211; with Fleetwood Mac (1971 &#8211; &#8217;74) &#8211; age 65</p>\n",
      "<p>June 08 &#8211;     <b>Frank Cady,</b> Actor &#8211; store owner Sam Drucker on &#8220;<a href=\"http://fiftiesweb.com/tv/green-acres.htm\">Green Acres</a>&#8221; (1965 &#8211; &#8217;71) &#8211; age 96</p>\n",
      "<p>June 19 &#8211; <b>Richard Lynch,</b> Actor &#8211; King Cromwell in The Sword and the Sorcerer &#8211; age 72</p>\n",
      "<p>June 26 &#8211;     <b>Nora Ephron,</b> Writer/ Director/ Producer &#8211; &#8220;Sleepless in Seattle&#8221;, &#8220;When Harry Met Sally&#8221; &#8211; age 71</p>\n",
      "<p>June 26 &#8211;     <b>Doris Singleton,</b> Actress/ Singer &#8211; Carol Appleby on &#8220;<a href=\"http://fiftiesweb.com/lucy.htm\" target=\"_blank\">I Love Lucy</a>&#8221; also &#8220;<a href=\"http://fiftiesweb.com/tv/three-sons.htm\">My Three Sons</a>&#8221; &#8211; age 92</p>\n",
      "<p>June 27 &#8211;     <b>Don Grady,</b> Actor &#8211; Robbie Douglas on &#8220;<a href=\"http://fiftiesweb.com/tv/three-sons.htm\">My Three Sons</a>&#8221; also a <a href=\"http://fiftiesweb.com/annette.htm\" target=\"_blank\">Mouseketeer</a> &#8211; age 68</p>\n",
      "<p>July 03 &#8211;     <b>Andy Griffith,</b> Actor/Director/Producer/Singer &#8211; &#8220;<a href=\"http://fiftiesweb.com/tv/andy-griffith.htm\" target=\"_blank\">The Andy Griffith Show</a>&#8221; (1960-&#8217;68), &#8220;Matlock&#8221; (1986-&#8217;95) &#8211; age 86</p>\n",
      "<p>July 08 &#8211;     <b>Ernest Borgnine,</b> Actor &#8211; Won Academy Award for &#8220;Marty&#8221;, also &#8220;<a href=\"http://fiftiesweb.com/tv/mchales-navy.htm\" target=\"_blank\">McHales Navy</a>&#8221; (1962-&#8217;68), &#8220;<a href=\"http://fiftiesweb.com/tv/airwolf.htm\" target=\"_blank\">Airwolf</a>&#8221; (1984-&#8217;86)- age 95</p>\n",
      "<p>July 13 &#8211;     <b>Richard Zanuck,</b> Producer &#8211; Academy Award for &#8220;Driving Miss Daisy&#8221; also &#8220;Jaws&#8221;, &#8220;Cocoon&#8221;, &#8220;The Sound of Music&#8221; &#8211; age 77</p>\n",
      "<p>July 13 &#8211;     <b>Ginny Tyler,</b> Actress &#8211; Mouseketeer (1963) on &#8220;<a href=\"http://fiftiesweb.com/annette.htm\" target=\"_blank\">Mickey Mouse Club</a>&#8221; &#8211; age 86</p>\n",
      "<p>July 15 &#8211;     <b>Celeste Holm,</b> Actress &#8211; Academy Award for &#8220;Gentleman&#8217;s Agreement&#8221; also in &#8220;All About Eve&#8221; &#8211; age 95</p>\n",
      "<p>July 16 &#8211;     <b>Kitty Wells,</b> C&amp;W Singer &#8211; 1952 hit &#8220;It Wasn&#8217;t God Who Made Honky Tonk Angels&#8221; &#8211; age 92</p>\n",
      "<p>July 23 &#8211;     <b>Sally Ride,</b> Physicist, Astronaut &#8211; First woman in space aboard the Shuttle Challenger in 1983 &#8211; age 61</p>\n",
      "<p>July 24 &#8211;     <b>Sherman Hemsley,</b> Actor &#8211; George Jefferson on &#8220;The Jeffersons&#8221; (1975-&#8217;85) age &#8211; 74</p>\n",
      "<p>July 25 &#8211;     <b>Chad Everett,</b> Actor &#8211; Dr. Joe Gannon in &#8220;<a href=\"http://fiftiesweb.com/tv/medical-center.htm\" target=\"_blank\">Medical Center</a>&#8221; (1969-&#8217;76) age &#8211; 75</p>\n",
      "<p>July 27 &#8211;     <b>Tony Martin,</b> Singer &#8211; &#8220;To Each His Own&#8221; (1946),did radio and film musicals &#8211; age 98</p>\n",
      "<p>July 31 &#8211;     <b>Gore Vidal,</b> Author /Playwright/ Activist &#8211; wrote &#8220;Myra Breckenridge&#8221; and 1000&#8217;s of others &#8211; age 86</p>\n",
      "<p>August 01 &#8211; <b>Marvin Hamlisch,</b> Composer &#8211; won 3 Oscars, 4 Grammys, 4 Emmys, 1 Tony, 3 Golden Globes &#8211; &#8220;The Way We Were&#8221; &#8211; age 68</p>\n",
      "<p>August 07 &#8211; <b>Judith Crist,</b> Film Critic &#8211; Today Show (1964-&#8217;73) also for TV Guide, New York Magazine and others &#8211; age 90</p>\n",
      "<p>August 13 &#8211; <b>Helen Gurley Brown,</b> Author, Publisher &#8211; Editor of Cosompolitan Magazine (1965 -&#8217;97) &#8211; age 90</p>\n",
      "<p>August 14 &#8211; <b>Ron Palillo,</b> Actor &#8211; Horshack on &#8220;Welcome Back Kotter&#8221; (1975 &#8211; &#8217;79) &#8211; age 63</p>\n",
      "<p>August 14 &#8211; <b>Phyllis Thaxter,</b> Actress &#8211; Ma Kent in &#8220;Superman&#8221; movie (1978) &#8211; age 92</p>\n",
      "<p>August 15 &#8211; <b>William Windom,</b> Actor &#8211; played a doctor on &#8220;Murder, She Wrote&#8221; &#8211; age 88</p>\n",
      "<p>August 18 &#8211; <b>Scott McKenzie,</b> Singer / Songwriter &#8211; &#8220;Be Sure to Wear Flowers in Your Hair&#8221; &#8211; age 73</p>\n",
      "<p>August 19 &#8211; <b>Tony Scott,</b> Film Director &#8211; &#8220;Top Gun&#8221;, &#8220;Beverly Hills Cop II&#8221;, &#8220;The Last Boy Scout&#8221; and others &#8211; age 68</p>\n",
      "<p>August 20 &#8211; <b>Phyllis Diller,</b> Comedienne / TV Personality &#8211; known for her wild hair, long cigarette holder and self-deprecating humor &#8211; age 95</p>\n",
      "<p>August 24 &#8211; <b>Steve Franken,</b> Actor &#8211; Chatsworth Osborne Jr. on <a href=\"http://fiftiesweb.com/tv/dobie-gillis.htm\" target=\"_blank\">The Many Loves of Dobie Gillis</a> &#8211; age 80</p>\n",
      "<p>August 25 &#8211; <b>Neil Armstrong,</b> Astronaut &#8211; 1st man to ever step foot on the moon, a true American hero &#8211; age 82</p>\n",
      "<p>September 01 &#8211; <b>Hal David,</b> Song Writer &#8211; with partner Burt Bacharach &#8220;Raindrops Keep Fallin&#8217; On My Head&#8221; &#8211; age 90</p>\n",
      "<p>September 03 &#8211; <b>Michael Clarke Duncan,</b> Actor &#8211; &#8220;Armageddon&#8221;, &#8220;The Green Mile&#8221; &#8211; age 54</p>\n",
      "<p>September 05 &#8211; <b>Joe South,</b> Songwriter &#8211; won a Grammy for &#8220;Games People Play&#8221; &#8211; age 72</p>\n",
      "<p>September 07 &#8211; <b>Dorothy McGuire,</b> Singer &#8211; one of three sisters that formed The McGuire Sisters,in the 1960s and &#8217;70s &#8211; age 84</p>\n",
      "<p>September 11 &#8211; <b>Johnny Perez,</b> Drummer / Song Writer &#8211; Sir Douglas Quintet, biggest hit, &#8220;She&#8217;s About a Mover&#8221; &#8211; age 69</p>\n",
      "<p>September 16 &#8211; <b>John Ingle,</b> Actor &#8211; Edward Quartermaine on &#8220;General Hospital&#8221; from 1993 &#8211; 2004 &#8211; age 84</p>\n",
      "<p>September 25 &#8211; <b>Andy Williams,</b> Singer / Entertainer &#8211; biggest hit was &#8220;Moon River&#8221;, <a href=\"http://fiftiesweb.com/tv/andy-williams.htm\" target=\"_blank\">weekly variety show</a> (1959-1971) &#8211; age 84</p>\n",
      "<p>September 27 &#8211; <b>Frank Wilson,</b> Songwriter / Producer &#8211; &#8220;Love Child&#8221; for Supremes, &#8220;Castles In the Sand&#8221; for Stevie Wonder &#8211; age 71</p>\n",
      "<p>October 10 &#8211;  <b>Alex Karras,</b> Athlete / Actor &#8211; Detroit Lions (1958-1970), starred in &#8220;Webster&#8221; (1983–87), &#8220;Blazing Saddles&#8221; (1974) &#8211; age 77</p>\n",
      "<p>October 13 &#8211;  <b>Gary Collins,</b> Actor &#8211; host Miss America Pageant, The Sixth Sense, The Wackiest Ship in the Army&#8221; (1965-66) &#8211; age 74</p>\n",
      "<p>October 14 &#8211;  <b>Arlen Specter,</b> Politician &#8211; Senator from Pennsylvania (1980-2011), known as a outspoken moderate &#8211; age 82</p>\n",
      "<p>October 21 &#8211;  <b>George McGovern,</b> Politician &#8211; liberal Senator from South Dakota and Democratic Party presidential nominee in 1972 &#8211; age 90</p>\n",
      "<p>November 17 &#8211; <b>Bonnie Lynn Fields,</b> Actress / Dancer &#8211; A <a href=\"http://fiftiesweb.com/annette.htm\">Mickey Mouse Club</a> Mouseketeer, season three (1957-58) &#8211; age 68</p>\n",
      "<p>November 21 &#8211; <b>Art Ginsburg,</b> Writer / Chef &#8211; &#8220;Mr Food&#8221; syndicated ninety second tv cooking spots, &#8220;Ooh! It&#8217;s so good!&#8221; &#8211; age 81</p>\n",
      "<p>November 23 &#8211; <b>Larry Hagman,</b> Actor &#8211; JR Ewing on &#8220;Dallas&#8221; (1978 -&#8217;91)&amp; (2012) and Major Tony Nelson on &#8220;<a href=\"http://fiftiesweb.com/tv/i-dream-jeannie.htm\">I Dream of Jeannie</a>&#8221; (1965 &#8211; &#8217;70)- age 81</p>\n",
      "<p>November 29 &#8211; <b>Susan Luckey,</b> Actress &#8211; &#8220;Carousel&#8221; (1956) and Zaneeta Shinn in &#8220;The Music Man&#8221; (1962) &#8211; age 74</p>\n",
      "<p>December 13 &#8211; <b>Jack Hanlon,</b> Child Actor &#8211; played in two &#8220;Our Gang&#8221; films (1927) retired at sixteen &#8211; age 96</p>\n",
      "<p>December 17 &#8211; <b>Daniel Inouye,</b> Politician &#8211; Senator from Hawaii (1963-death), Medal of Honor recipient &#8211; age 88</p>\n",
      "<p>December 24 &#8211; <b>Jack Klugman,</b> Actor &#8211; Oscar Madison in &#8220;The Odd Couple&#8221; (1970 &#8211; &#8217;75), &#8220;Quincy, M.E.&#8221; (1976 -&#8217;83) &#8211; age 90</p>\n",
      "<p>December 24 &#8211; <b>Charles Durning,</b> Actor &#8211; &#8220;The Best Little Whorehouse in Texas&#8221;, &#8220;Tootsie&#8221;, Big Daddy in &#8220;Cat on a Hot Tin Roof&#8221; &#8211; age 89</p>\n",
      "<p>December 27 &#8211; <b>Gen. Norman Schwarzkopf,</b> Soldier &#8211; commanded coalition forces in the first Persian Gulf War, &#8220;Desert Storm&#8221; &#8211; age 78</p>\n",
      "<p>December 27 &#8211; <b>Harry Carey, Jr.,</b> Character Actor &#8211; appeared in many big budget western movies, and a regular role as Bill Burnett on &#8220;Spin</p>\n",
      "<p><a href=\"http://fiftiesweb.com/dead/dead-people-a.htm\">A</a> <a href=\"http://fiftiesweb.com/dead/dead-people-b.htm\">B</a> <a href=\"http://fiftiesweb.com/dead/dead-people-c.htm\">C</a> <a href=\"http://fiftiesweb.com/dead/dead-people-d.htm\">D</a> <a href=\"http://fiftiesweb.com/dead/dead-people-e.htm\">E</a> <a href=\"http://fiftiesweb.com/dead/dead-people-f.htm\">F</a> <a href=\"http://fiftiesweb.com/dead/dead-people-g.htm\">G</a> <a href=\"http://fiftiesweb.com/dead/dead-people-h.htm\">H</a> <a href=\"http://fiftiesweb.com/dead/dead-people-i.htm\">I</a> <a href=\"http://fiftiesweb.com/dead/dead-people-j.htm\">J</a> <a href=\"http://fiftiesweb.com/dead/dead-people-k.htm\">K</a> <a href=\"http://fiftiesweb.com/dead/dead-people-l.htm\">L</a> <a href=\"http://fiftiesweb.com/dead/dead-people-m.htm\">M</a> <a href=\"http://fiftiesweb.com/dead/dead-people-n.htm\">N</a> <a href=\"http://fiftiesweb.com/dead/dead-people-o.htm\">O</a> <a href=\"http://fiftiesweb.com/dead/dead-people-p.htm\">P</a> <a href=\"http://fiftiesweb.com/dead/dead-people-q.htm\">Q</a> <a href=\"http://fiftiesweb.com/dead/dead-people-r.htm\">R</a> <a href=\"http://fiftiesweb.com/dead/dead-people-s.htm\">S</a> <a href=\"http://fiftiesweb.com/dead/dead-people-t.htm\">T</a> <a href=\"http://fiftiesweb.com/dead/dead-people-u.htm\">U</a> <a href=\"http://fiftiesweb.com/dead/dead-people-v.htm\">V</a> <a href=\"http://fiftiesweb.com/dead/dead-people-w.htm\">W</a> <a href=\"http://fiftiesweb.com/dead/dead-people-x.htm\">X</a> <a href=\"http://fiftiesweb.com/dead/dead-people-y.htm\">Y</a> <a href=\"http://fiftiesweb.com/dead/dead-people-z.htm\">Z</a></p>\n",
      "<p><b><a href=\"http://fiftiesweb.com/wordpress/wp-content/uploads/2015/05/120x600.png\"><img class=\" size-full wp-image-1212 alignright\" style=\"display: none !important;\" src=\"data:image/gif;base64,R0lGODdhAQABAPAAAP///wAAACwAAAAAAQABAEACAkQBADs=\" data-lazy-src=\"http://fiftiesweb.com/wordpress/wp-content/uploads/2015/05/120x600.png\" alt=\"120x600\" width=\"161\" height=\"601\" /></a></b><noscript><img class=\" size-full wp-image-1212 alignright\" style=\"display: none !important;\" src=\"http://fiftiesweb.com/wordpress/wp-content/uploads/2015/05/120x600.png\" alt=\"120x600\" width=\"161\" height=\"601\" /></noscript></p>\n",
      "<p><b><a href=\"http://fiftiesweb.com/dead/dead-people-2017/\">DIED IN 2017</a><br /> <a href=\"http://fiftiesweb.com/dead/dead-people-2016/\">DIED IN 2016</a><br /> <a href=\"http://fiftiesweb.com/dead/dead-people-2015/\">DIED IN 2015</a><br /> <a href=\"http://fiftiesweb.com/dead/dead-people-2014/\">DIED IN 2014</a><br /> <a href=\"http://fiftiesweb.com/dead/dead-people-2013/\">DIED IN 2013</a><br /> <a href=\"http://fiftiesweb.com/dead/dead-people-2012/\">DIED IN 2012</a><br /> <a href=\"http://fiftiesweb.com/dead/dead-people-2011/\">DIED IN 2011</a><br /> <a href=\"http://fiftiesweb.com/dead/dead-people-2010/\">DIED IN 2010</a><br /> <a href=\"http://fiftiesweb.com/dead/dead-people-2009/\">DIED IN 2009</a><br /> <a href=\"http://fiftiesweb.com/dead/dead-people-2008/\">DIED IN 2008</a><br /> <a href=\"http://fiftiesweb.com/dead/dead-people-2007/\">DIED IN 2007</a><br /> <a href=\"http://fiftiesweb.com/dead/dead-people-2006/\">DIED IN 2006</a><br /> <a href=\"http://fiftiesweb.com/dead/dead-people-2005/\">DIED IN 2005</a><br /> <a href=\"http://fiftiesweb.com/dead/dead-people-2004/\">DIED IN 2004</a><br /> <a href=\"http://fiftiesweb.com/dead/dead-people-2003/\">DIED IN 2003</a><br /> <a href=\"http://fiftiesweb.com/dead/dead-people-2002/\">DIED IN 2002</a><br /> <a href=\"http://fiftiesweb.com/dead/dead-people-2001/\">DIED IN 2001</a><br /> <a href=\"http://fiftiesweb.com/dead/dead-people-2000\\\">DIED IN 2000</a></b></p>\n",
      "<p>Last Names<br /> Begin With...<br /> <a href=\"http://fiftiesweb.com/dead/dead-people-a/\">A</a> <a href=\"http://fiftiesweb.com/dead/dead-people-b/\">B</a> <a href=\"http://fiftiesweb.com/dead/dead-people-c/\">C</a> <a href=\"http://fiftiesweb.com/dead/dead-people-d/\">D</a> <a href=\"http://fiftiesweb.com/dead/dead-people-e/\">E</a> <a href=\"http://fiftiesweb.com/dead/dead-people-f/\">F</a><br /> <a href=\"http://fiftiesweb.com/dead/dead-people-g/\">G</a> <a href=\"http://fiftiesweb.com/dead/dead-people-h/\">H</a> <a href=\"http://fiftiesweb.com/dead/dead-people-i/\">I</a> <a href=\"http://fiftiesweb.com/dead/dead-people-j/\">J</a> <a href=\"http://fiftiesweb.com/dead/dead-people-k/\">K</a> <a href=\"http://fiftiesweb.com/dead/dead-people-l/\">L</a> <a href=\"http://fiftiesweb.com/dead/dead-people-m/\">M</a><br /> <a href=\"http://fiftiesweb.com/dead/dead-people-n/\">N</a> <a href=\"http://fiftiesweb.com/dead/dead-people-o/\">O</a> <a href=\"http://fiftiesweb.com/dead/dead-people-p/\">P</a> <a href=\"http://fiftiesweb.com/dead/dead-people-q/\">Q</a> <a href=\"http://fiftiesweb.com/dead/dead-people-r/\">R</a> <a href=\"http://fiftiesweb.com/dead/dead-people-s/\">S</a> <a href=\"http://fiftiesweb.com/dead/dead-people-t/\">T</a><br /> <a href=\"http://fiftiesweb.com/dead/dead-people-u/\">U</a> <a href=\"http://fiftiesweb.com/dead/dead-people-v/\">V</a> <a href=\"http://fiftiesweb.com/dead/dead-people-w/\">W</a> <a href=\"http://fiftiesweb.com/dead/dead-people-x/\">X</a> <a href=\"http://fiftiesweb.com/dead/dead-people-y/\">Y</a> <a href=\"http://fiftiesweb.com/dead/dead-people-z/\">Z</a></p>\n",
      "<p><a href=\"http://fiftiesweb.com/dead/real-names/\">STAGE AND REAL NAMES</a></p>\n",
      "<p><script type=\"text/javascript\">window._mNHandle=window._mNHandle||{};window._mNHandle.queue=window._mNHandle.queue||[];medianet_versionId=\"121199\";(function(){var sct=document.createElement(\"script\"),sctHl=document.getElementsByTagName(\"script\")[0],isSSL='https:'==document.location.protocol;sct.type=\"text/javascript\";sct.src=(isSSL?'https:':'http:')+'//contextual.media.net/dmedianet.js?cid=8CUTNDD1Q'+(isSSL?'&amp;https=1':'')+'';sct.async=\"async\";sctHl.parentNode.insertBefore(sct,sctHl);})();</script></p>\n",
      "<p>Copyright 2015-2020. Michael Rich. All rights reserved. WWW.FIFTIESWEB.COM is a creation of RichWeb and is not endorsed or sponsored by or affiliated with any of the products, services, programs, celebrities or entities mentioned herein.</p>\n"
     ]
    }
   ],
   "source": [
    "\n",
    "\n",
    "for i in elem_p:\n",
    "    print i\n",
    "    try:\n",
    "        i = re.sub(\"strong\", \"b\", i)\n",
    "        print 'sub'\n",
    "    except:\n",
    "        pass\n"
   ]
  },
  {
   "cell_type": "code",
   "execution_count": 365,
   "metadata": {
    "collapsed": false
   },
   "outputs": [
    {
     "data": {
      "text/plain": [
       "<p>Copyright 2015-2020. Michael Rich. All rights reserved. WWW.FIFTIESWEB.COM is a creation of RichWeb and is not endorsed or sponsored by or affiliated with any of the products, services, programs, celebrities or entities mentioned herein.</p>"
      ]
     },
     "execution_count": 365,
     "metadata": {},
     "output_type": "execute_result"
    }
   ],
   "source": [
    "i"
   ]
  },
  {
   "cell_type": "code",
   "execution_count": null,
   "metadata": {
    "collapsed": false,
    "scrolled": true
   },
   "outputs": [],
   "source": []
  },
  {
   "cell_type": "code",
   "execution_count": null,
   "metadata": {
    "collapsed": false
   },
   "outputs": [],
   "source": [
    "#df.to_csv('data/dead_celebs_2013_16.txt')\n",
    "re.sub(r\"strong\", \"b\", soup_par)"
   ]
  },
  {
   "cell_type": "code",
   "execution_count": 364,
   "metadata": {
    "collapsed": false
   },
   "outputs": [
    {
     "name": "stdout",
     "output_type": "stream",
     "text": [
      "<a href=\"http://google.com\">Google</a>\n",
      "http://google.com\n",
      "http://mysite.com\n"
     ]
    }
   ],
   "source": [
    "soup_ex = BS('<p>Blah blah blah <a href=\"http://google.com\">Google</a></p>')\n",
    "for a in soup_ex.findAll('a'):\n",
    "    print a\n",
    "    print a['href']\n",
    "    a['href'] = a['href'].replace(\"google\", \"mysite\")\n",
    "    print a['href']"
   ]
  },
  {
   "cell_type": "code",
   "execution_count": 342,
   "metadata": {
    "collapsed": false
   },
   "outputs": [
    {
     "name": "stdout",
     "output_type": "stream",
     "text": [
      "<p>The Fiftiesweb is grateful to Paula Valenzuela for her very gracious help with compiling this list!</p>\n"
     ]
    },
    {
     "ename": "TypeError",
     "evalue": "'NoneType' object is not callable",
     "output_type": "error",
     "traceback": [
      "\u001b[1;31m\u001b[0m",
      "\u001b[1;31mTypeError\u001b[0mTraceback (most recent call last)",
      "\u001b[1;32m<ipython-input-342-ce910553fe39>\u001b[0m in \u001b[0;36m<module>\u001b[1;34m()\u001b[0m\n\u001b[0;32m      1\u001b[0m \u001b[1;32mfor\u001b[0m \u001b[0ma\u001b[0m \u001b[1;32min\u001b[0m \u001b[0msoup\u001b[0m\u001b[1;33m.\u001b[0m\u001b[0mfindAll\u001b[0m\u001b[1;33m(\u001b[0m\u001b[1;34m'p'\u001b[0m\u001b[1;33m)\u001b[0m\u001b[1;33m:\u001b[0m\u001b[1;33m\u001b[0m\u001b[0m\n\u001b[0;32m      2\u001b[0m     \u001b[1;32mprint\u001b[0m \u001b[0ma\u001b[0m\u001b[1;33m\u001b[0m\u001b[0m\n\u001b[1;32m----> 3\u001b[1;33m     \u001b[0ma\u001b[0m\u001b[1;33m=\u001b[0m\u001b[0ma\u001b[0m\u001b[1;33m.\u001b[0m\u001b[0mreplace\u001b[0m\u001b[1;33m(\u001b[0m\u001b[1;34m\"grateful\"\u001b[0m\u001b[1;33m,\u001b[0m \u001b[1;34m\"not grateful\"\u001b[0m\u001b[1;33m)\u001b[0m\u001b[1;33m\u001b[0m\u001b[0m\n\u001b[0m\u001b[0;32m      4\u001b[0m     \u001b[1;32mprint\u001b[0m \u001b[0ma\u001b[0m\u001b[1;33m\u001b[0m\u001b[0m\n\u001b[0;32m      5\u001b[0m     \u001b[1;32mbreak\u001b[0m\u001b[1;33m\u001b[0m\u001b[0m\n",
      "\u001b[1;31mTypeError\u001b[0m: 'NoneType' object is not callable"
     ]
    }
   ],
   "source": [
    "for a in soup.findAll('p'):\n",
    "    print a\n",
    "    a=a.replace(\"grateful\", \"not grateful\")\n",
    "    print a\n",
    "    break"
   ]
  },
  {
   "cell_type": "code",
   "execution_count": null,
   "metadata": {
    "collapsed": false
   },
   "outputs": [],
   "source": []
  },
  {
   "cell_type": "code",
   "execution_count": null,
   "metadata": {
    "collapsed": false
   },
   "outputs": [],
   "source": []
  },
  {
   "cell_type": "code",
   "execution_count": null,
   "metadata": {
    "collapsed": true
   },
   "outputs": [],
   "source": []
  },
  {
   "cell_type": "code",
   "execution_count": 315,
   "metadata": {
    "collapsed": false
   },
   "outputs": [
    {
     "name": "stdout",
     "output_type": "stream",
     "text": [
      "[]\n"
     ]
    }
   ],
   "source": [
    "print soup.body.findAll(text=re.compile('^strong$'))"
   ]
  },
  {
   "cell_type": "code",
   "execution_count": null,
   "metadata": {
    "collapsed": false
   },
   "outputs": [],
   "source": []
  },
  {
   "cell_type": "code",
   "execution_count": null,
   "metadata": {
    "collapsed": false
   },
   "outputs": [],
   "source": []
  },
  {
   "cell_type": "code",
   "execution_count": null,
   "metadata": {
    "collapsed": false
   },
   "outputs": [],
   "source": []
  },
  {
   "cell_type": "code",
   "execution_count": null,
   "metadata": {
    "collapsed": false
   },
   "outputs": [],
   "source": [
    "#Wikipidia version (more difficult)\n",
    "html = urllib2.urlopen(\"https://en.wikipedia.org/wiki/Deaths_in_2016\")\n",
    "soup = BS(html)\n",
    "elem = soup.findAll('li')\n",
    "print elem[33].text"
   ]
  },
  {
   "cell_type": "code",
   "execution_count": null,
   "metadata": {
    "collapsed": false
   },
   "outputs": [],
   "source": []
  },
  {
   "cell_type": "code",
   "execution_count": null,
   "metadata": {
    "collapsed": true
   },
   "outputs": [],
   "source": []
  }
 ],
 "metadata": {
  "anaconda-cloud": {},
  "kernelspec": {
   "display_name": "Python [Root]",
   "language": "python",
   "name": "Python [Root]"
  },
  "language_info": {
   "codemirror_mode": {
    "name": "ipython",
    "version": 2
   },
   "file_extension": ".py",
   "mimetype": "text/x-python",
   "name": "python",
   "nbconvert_exporter": "python",
   "pygments_lexer": "ipython2",
   "version": "2.7.12"
  }
 },
 "nbformat": 4,
 "nbformat_minor": 0
}
